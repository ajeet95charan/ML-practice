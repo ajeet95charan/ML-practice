{
 "cells": [
  {
   "cell_type": "code",
   "execution_count": 1,
   "id": "cdc479c1",
   "metadata": {},
   "outputs": [],
   "source": [
    "import pandas as pd"
   ]
  },
  {
   "cell_type": "code",
   "execution_count": 2,
   "id": "0066b425",
   "metadata": {},
   "outputs": [],
   "source": [
    "dataset = pd.read_csv('weight-height.csv')"
   ]
  },
  {
   "cell_type": "code",
   "execution_count": 3,
   "id": "f343189c",
   "metadata": {},
   "outputs": [
    {
     "data": {
      "text/html": [
       "<div>\n",
       "<style scoped>\n",
       "    .dataframe tbody tr th:only-of-type {\n",
       "        vertical-align: middle;\n",
       "    }\n",
       "\n",
       "    .dataframe tbody tr th {\n",
       "        vertical-align: top;\n",
       "    }\n",
       "\n",
       "    .dataframe thead th {\n",
       "        text-align: right;\n",
       "    }\n",
       "</style>\n",
       "<table border=\"1\" class=\"dataframe\">\n",
       "  <thead>\n",
       "    <tr style=\"text-align: right;\">\n",
       "      <th></th>\n",
       "      <th>Gender</th>\n",
       "      <th>Height</th>\n",
       "      <th>Weight</th>\n",
       "    </tr>\n",
       "  </thead>\n",
       "  <tbody>\n",
       "    <tr>\n",
       "      <th>0</th>\n",
       "      <td>Male</td>\n",
       "      <td>73.847017</td>\n",
       "      <td>241.893563</td>\n",
       "    </tr>\n",
       "    <tr>\n",
       "      <th>1</th>\n",
       "      <td>Male</td>\n",
       "      <td>68.781904</td>\n",
       "      <td>162.310473</td>\n",
       "    </tr>\n",
       "    <tr>\n",
       "      <th>2</th>\n",
       "      <td>Male</td>\n",
       "      <td>74.110105</td>\n",
       "      <td>212.740856</td>\n",
       "    </tr>\n",
       "    <tr>\n",
       "      <th>3</th>\n",
       "      <td>Male</td>\n",
       "      <td>71.730978</td>\n",
       "      <td>220.042470</td>\n",
       "    </tr>\n",
       "    <tr>\n",
       "      <th>4</th>\n",
       "      <td>Male</td>\n",
       "      <td>69.881796</td>\n",
       "      <td>206.349801</td>\n",
       "    </tr>\n",
       "  </tbody>\n",
       "</table>\n",
       "</div>"
      ],
      "text/plain": [
       "  Gender     Height      Weight\n",
       "0   Male  73.847017  241.893563\n",
       "1   Male  68.781904  162.310473\n",
       "2   Male  74.110105  212.740856\n",
       "3   Male  71.730978  220.042470\n",
       "4   Male  69.881796  206.349801"
      ]
     },
     "execution_count": 3,
     "metadata": {},
     "output_type": "execute_result"
    }
   ],
   "source": [
    "dataset.head()"
   ]
  },
  {
   "cell_type": "code",
   "execution_count": 4,
   "id": "36c81ecf",
   "metadata": {},
   "outputs": [
    {
     "name": "stdout",
     "output_type": "stream",
     "text": [
      "<class 'pandas.core.frame.DataFrame'>\n",
      "RangeIndex: 10000 entries, 0 to 9999\n",
      "Data columns (total 3 columns):\n",
      " #   Column  Non-Null Count  Dtype  \n",
      "---  ------  --------------  -----  \n",
      " 0   Gender  10000 non-null  object \n",
      " 1   Height  10000 non-null  float64\n",
      " 2   Weight  10000 non-null  float64\n",
      "dtypes: float64(2), object(1)\n",
      "memory usage: 234.5+ KB\n"
     ]
    }
   ],
   "source": [
    "dataset.info()"
   ]
  },
  {
   "cell_type": "code",
   "execution_count": 5,
   "id": "8f99a9ae",
   "metadata": {},
   "outputs": [
    {
     "data": {
      "text/plain": [
       "Index(['Gender', 'Height', 'Weight'], dtype='object')"
      ]
     },
     "execution_count": 5,
     "metadata": {},
     "output_type": "execute_result"
    }
   ],
   "source": [
    "dataset.columns"
   ]
  },
  {
   "cell_type": "code",
   "execution_count": 6,
   "id": "c1651dad",
   "metadata": {},
   "outputs": [],
   "source": [
    "y = dataset['Weight']"
   ]
  },
  {
   "cell_type": "code",
   "execution_count": 7,
   "id": "f9400f2b",
   "metadata": {},
   "outputs": [],
   "source": [
    "x = dataset['Height']"
   ]
  },
  {
   "cell_type": "code",
   "execution_count": 8,
   "id": "524b153c",
   "metadata": {},
   "outputs": [],
   "source": [
    "from keras.models import Sequential"
   ]
  },
  {
   "cell_type": "code",
   "execution_count": 9,
   "id": "196a07d8",
   "metadata": {},
   "outputs": [],
   "source": [
    "from keras.layers import Dense"
   ]
  },
  {
   "cell_type": "code",
   "execution_count": 10,
   "id": "d1b4cc98",
   "metadata": {},
   "outputs": [],
   "source": [
    "from keras.optimizers import Adam"
   ]
  },
  {
   "cell_type": "code",
   "execution_count": 11,
   "id": "61128857",
   "metadata": {},
   "outputs": [],
   "source": [
    "model = Sequential()"
   ]
  },
  {
   "cell_type": "code",
   "execution_count": 12,
   "id": "bbb5e1cb",
   "metadata": {},
   "outputs": [],
   "source": [
    "model.add(Dense(units=1, input_shape=(1,) ) )"
   ]
  },
  {
   "cell_type": "code",
   "execution_count": 13,
   "id": "eb53fde8",
   "metadata": {},
   "outputs": [
    {
     "name": "stdout",
     "output_type": "stream",
     "text": [
      "Model: \"sequential\"\n",
      "_________________________________________________________________\n",
      "Layer (type)                 Output Shape              Param #   \n",
      "=================================================================\n",
      "dense (Dense)                (None, 1)                 2         \n",
      "=================================================================\n",
      "Total params: 2\n",
      "Trainable params: 2\n",
      "Non-trainable params: 0\n",
      "_________________________________________________________________\n"
     ]
    }
   ],
   "source": [
    "model.summary()"
   ]
  },
  {
   "cell_type": "code",
   "execution_count": 14,
   "id": "f41cb032",
   "metadata": {},
   "outputs": [],
   "source": [
    "model.compile(loss='mean_squared_error', optimizer=Adam(learning_rate=0.01))"
   ]
  },
  {
   "cell_type": "code",
   "execution_count": 15,
   "id": "e5d8fd44",
   "metadata": {},
   "outputs": [
    {
     "name": "stdout",
     "output_type": "stream",
     "text": [
      "Epoch 1/50\n",
      "  1/313 [..............................] - ETA: 0s - loss: 5969.1919WARNING:tensorflow:Callbacks method `on_train_batch_end` is slow compared to the batch time (batch time: 0.0000s vs `on_train_batch_end` time: 0.0010s). Check your callbacks.\n",
      "313/313 [==============================] - 0s 878us/step - loss: 1103.0680\n",
      "Epoch 2/50\n",
      "313/313 [==============================] - 0s 815us/step - loss: 563.6951\n",
      "Epoch 3/50\n",
      "313/313 [==============================] - 0s 1ms/step - loss: 563.2740\n",
      "Epoch 4/50\n",
      "313/313 [==============================] - 0s 956us/step - loss: 562.5782\n",
      "Epoch 5/50\n",
      "313/313 [==============================] - 0s 793us/step - loss: 561.5358\n",
      "Epoch 6/50\n",
      "313/313 [==============================] - 0s 981us/step - loss: 560.3615\n",
      "Epoch 7/50\n",
      "313/313 [==============================] - 0s 1ms/step - loss: 559.2856\n",
      "Epoch 8/50\n",
      "313/313 [==============================] - 0s 1ms/step - loss: 558.3541\n",
      "Epoch 9/50\n",
      "313/313 [==============================] - 0s 1ms/step - loss: 557.1461\n",
      "Epoch 10/50\n",
      "313/313 [==============================] - 0s 1ms/step - loss: 555.3834\n",
      "Epoch 11/50\n",
      "313/313 [==============================] - 0s 900us/step - loss: 553.7894\n",
      "Epoch 12/50\n",
      "313/313 [==============================] - 0s 1ms/step - loss: 552.5900\n",
      "Epoch 13/50\n",
      "313/313 [==============================] - 0s 931us/step - loss: 550.3776\n",
      "Epoch 14/50\n",
      "313/313 [==============================] - 0s 878us/step - loss: 549.0538\n",
      "Epoch 15/50\n",
      "313/313 [==============================] - 0s 1ms/step - loss: 546.9498\n",
      "Epoch 16/50\n",
      "313/313 [==============================] - 0s 949us/step - loss: 545.3868\n",
      "Epoch 17/50\n",
      "313/313 [==============================] - 0s 1ms/step - loss: 543.9173\n",
      "Epoch 18/50\n",
      "313/313 [==============================] - 0s 1ms/step - loss: 541.4340\n",
      "Epoch 19/50\n",
      "313/313 [==============================] - 0s 862us/step - loss: 539.8152\n",
      "Epoch 20/50\n",
      "313/313 [==============================] - 0s 859us/step - loss: 538.5772\n",
      "Epoch 21/50\n",
      "313/313 [==============================] - 0s 993us/step - loss: 536.5706\n",
      "Epoch 22/50\n",
      "313/313 [==============================] - 0s 1ms/step - loss: 534.4416\n",
      "Epoch 23/50\n",
      "313/313 [==============================] - 0s 909us/step - loss: 532.6888\n",
      "Epoch 24/50\n",
      "313/313 [==============================] - 0s 1ms/step - loss: 531.0983\n",
      "Epoch 25/50\n",
      "313/313 [==============================] - 0s 1ms/step - loss: 528.7731\n",
      "Epoch 26/50\n",
      "313/313 [==============================] - 0s 1ms/step - loss: 528.0148\n",
      "Epoch 27/50\n",
      "313/313 [==============================] - 0s 900us/step - loss: 525.1213\n",
      "Epoch 28/50\n",
      "313/313 [==============================] - 0s 1ms/step - loss: 524.1434\n",
      "Epoch 29/50\n",
      "313/313 [==============================] - 0s 946us/step - loss: 522.3544\n",
      "Epoch 30/50\n",
      "313/313 [==============================] - 0s 1ms/step - loss: 519.4424\n",
      "Epoch 31/50\n",
      "313/313 [==============================] - 0s 990us/step - loss: 518.3915\n",
      "Epoch 32/50\n",
      "313/313 [==============================] - 0s 925us/step - loss: 516.7563\n",
      "Epoch 33/50\n",
      "313/313 [==============================] - 0s 987us/step - loss: 515.4609\n",
      "Epoch 34/50\n",
      "313/313 [==============================] - 0s 859us/step - loss: 513.2758\n",
      "Epoch 35/50\n",
      "313/313 [==============================] - 0s 1ms/step - loss: 511.4366\n",
      "Epoch 36/50\n",
      "313/313 [==============================] - 0s 928us/step - loss: 509.4137\n",
      "Epoch 37/50\n",
      "313/313 [==============================] - 0s 896us/step - loss: 508.0313\n",
      "Epoch 38/50\n",
      "313/313 [==============================] - 0s 862us/step - loss: 506.4632\n",
      "Epoch 39/50\n",
      "313/313 [==============================] - 0s 843us/step - loss: 504.1982\n",
      "Epoch 40/50\n",
      "313/313 [==============================] - 0s 871us/step - loss: 502.7545\n",
      "Epoch 41/50\n",
      "313/313 [==============================] - 0s 818us/step - loss: 500.7016\n",
      "Epoch 42/50\n",
      "313/313 [==============================] - 0s 1ms/step - loss: 498.7739\n",
      "Epoch 43/50\n",
      "313/313 [==============================] - 0s 943us/step - loss: 497.6469\n",
      "Epoch 44/50\n",
      "313/313 [==============================] - 0s 953us/step - loss: 495.8470\n",
      "Epoch 45/50\n",
      "313/313 [==============================] - 0s 1ms/step - loss: 494.3878\n",
      "Epoch 46/50\n",
      "313/313 [==============================] - 0s 840us/step - loss: 493.0135\n",
      "Epoch 47/50\n",
      "313/313 [==============================] - 0s 1ms/step - loss: 491.1692\n",
      "Epoch 48/50\n",
      "313/313 [==============================] - 0s 853us/step - loss: 489.0066\n",
      "Epoch 49/50\n",
      "313/313 [==============================] - 0s 843us/step - loss: 488.0623\n",
      "Epoch 50/50\n",
      "313/313 [==============================] - 0s 909us/step - loss: 486.0214\n"
     ]
    },
    {
     "data": {
      "text/plain": [
       "<tensorflow.python.keras.callbacks.History at 0xbf827c8f48>"
      ]
     },
     "execution_count": 15,
     "metadata": {},
     "output_type": "execute_result"
    }
   ],
   "source": [
    "model.fit(x,y, epochs=50)"
   ]
  },
  {
   "cell_type": "code",
   "execution_count": 16,
   "id": "e60d2a3a",
   "metadata": {},
   "outputs": [
    {
     "data": {
      "text/plain": [
       "[array([[2.9848814]], dtype=float32), array([-34.569298], dtype=float32)]"
      ]
     },
     "execution_count": 16,
     "metadata": {},
     "output_type": "execute_result"
    }
   ],
   "source": [
    "model.get_weights()"
   ]
  },
  {
   "cell_type": "code",
   "execution_count": null,
   "id": "ec6f7043",
   "metadata": {},
   "outputs": [],
   "source": []
  }
 ],
 "metadata": {
  "kernelspec": {
   "display_name": "Python 3",
   "language": "python",
   "name": "python3"
  },
  "language_info": {
   "codemirror_mode": {
    "name": "ipython",
    "version": 3
   },
   "file_extension": ".py",
   "mimetype": "text/x-python",
   "name": "python",
   "nbconvert_exporter": "python",
   "pygments_lexer": "ipython3",
   "version": "3.7.11"
  }
 },
 "nbformat": 4,
 "nbformat_minor": 5
}
